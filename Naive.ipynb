{
  "nbformat": 4,
  "nbformat_minor": 0,
  "metadata": {
    "colab": {
      "provenance": [],
      "include_colab_link": true
    },
    "kernelspec": {
      "name": "python3",
      "display_name": "Python 3"
    },
    "language_info": {
      "name": "python"
    },
    "accelerator": "GPU"
  },
  "cells": [
    {
      "cell_type": "markdown",
      "metadata": {
        "id": "view-in-github",
        "colab_type": "text"
      },
      "source": [
        "<a href=\"https://colab.research.google.com/github/parhamvs/Naive-Bayes-From-Scratch/blob/main/Naive.ipynb\" target=\"_parent\"><img src=\"https://colab.research.google.com/assets/colab-badge.svg\" alt=\"Open In Colab\"/></a>"
      ]
    },
    {
      "cell_type": "code",
      "metadata": {
        "colab": {
          "base_uri": "https://localhost:8080/"
        },
        "id": "QH1QGnoULC7p",
        "outputId": "559d1b4d-90b1-4250-b7ee-8620d0cc57fb"
      },
      "source": [
        "import pandas as pd\n",
        "import numpy as np\n",
        "import matplotlib.pyplot as plt\n",
        "import seaborn as sn\n",
        "import cv2\n",
        "import csv\n",
        "\n",
        "import nltk\n",
        "from nltk.corpus import stopwords\n",
        "from nltk.stem import PorterStemmer, WordNetLemmatizer\n",
        "from nltk import word_tokenize\n",
        "from nltk.corpus import wordnet\n",
        "\n",
        "from sklearn import metrics\n",
        "from sklearn.model_selection import train_test_split, cross_val_score\n",
        "from sklearn.linear_model import LogisticRegression, SGDClassifier, Perceptron\n",
        "from sklearn.tree import DecisionTreeClassifier\n",
        "from sklearn.naive_bayes import BernoulliNB\n",
        "from sklearn.ensemble import BaggingClassifier, RandomForestClassifier\n",
        "from sklearn.svm import SVC, LinearSVC\n",
        "from sklearn.neighbors import KNeighborsClassifier\n",
        "from sklearn.feature_extraction.text import TfidfVectorizer, CountVectorizer, text\n",
        "from sklearn.feature_selection import SelectKBest, chi2, f_classif, mutual_info_classif\n",
        "from sklearn.preprocessing import Normalizer\n",
        "from sklearn import decomposition, ensemble\n",
        "from sklearn.utils import shuffle\n",
        "\n",
        "import re\n",
        "import math\n",
        "import time\n",
        "from google.colab import drive\n",
        "\n",
        "\n",
        "# Install necessary packages\n",
        "!pip install nltk\n",
        "\n",
        "# Set up NLTK\n",
        "nltk.download()"
      ],
      "execution_count": null,
      "outputs": [
        {
          "output_type": "stream",
          "name": "stdout",
          "text": [
            "Requirement already satisfied: nltk in /usr/local/lib/python3.7/dist-packages (3.2.5)\n",
            "Requirement already satisfied: six in /usr/local/lib/python3.7/dist-packages (from nltk) (1.15.0)\n",
            "[nltk_data] Downloading package punkt to /root/nltk_data...\n",
            "[nltk_data]   Package punkt is already up-to-date!\n",
            "[nltk_data] Downloading package wordnet to /root/nltk_data...\n",
            "[nltk_data]   Package wordnet is already up-to-date!\n",
            "[nltk_data] Downloading package averaged_perceptron_tagger to\n",
            "[nltk_data]     /root/nltk_data...\n",
            "[nltk_data]   Package averaged_perceptron_tagger is already up-to-\n",
            "[nltk_data]       date!\n"
          ]
        },
        {
          "output_type": "execute_result",
          "data": {
            "text/plain": [
              "True"
            ]
          },
          "metadata": {},
          "execution_count": 25
        }
      ]
    },
    {
      "cell_type": "code",
      "metadata": {
        "colab": {
          "base_uri": "https://localhost:8080/"
        },
        "id": "kZXkX1GXLx15",
        "outputId": "3f230630-0736-49eb-abbc-14ccf9abbfb1"
      },
      "source": [
        "drive.mount('/content/gdrive')\n",
        "!pwd\n",
        "%cd 'gdrive/My Drive'"
      ],
      "execution_count": null,
      "outputs": [
        {
          "output_type": "stream",
          "name": "stdout",
          "text": [
            "Drive already mounted at /content/gdrive; to attempt to forcibly remount, call drive.mount(\"/content/gdrive\", force_remount=True).\n",
            "/content/gdrive/My Drive\n",
            "[Errno 2] No such file or directory: 'gdrive/My Drive'\n",
            "/content/gdrive/My Drive\n"
          ]
        }
      ]
    },
    {
      "cell_type": "code",
      "metadata": {
        "id": "deEAZCf5L85Z"
      },
      "source": [
        "class StemTokenizer:\n",
        "    def __init__(self):\n",
        "        self.wnl = PorterStemmer()\n",
        "    \n",
        "    def __call__(self, doc):\n",
        "        return [self.wnl.stem(t) for t in word_tokenize(doc) if t.isalpha()]"
      ],
      "execution_count": null,
      "outputs": []
    },
    {
      "cell_type": "code",
      "metadata": {
        "id": "Y8_k2PkHL9w8"
      },
      "source": [
        "def get_wordnet_pos(word):\n",
        "    \"\"\"Map POS tag to first character lemmatize() accepts\"\"\"\n",
        "    tag = nltk.pos_tag([word])[0][1][0].upper()\n",
        "    tag_dict = {\"J\": wordnet.ADJ,\n",
        "                \"N\": wordnet.NOUN,\n",
        "                \"V\": wordnet.VERB,\n",
        "                \"R\": wordnet.ADV}\n",
        "    return tag_dict.get(tag, wordnet.NOUN)\n",
        "class New_LemmaTokenizer:\n",
        "     def __init__(self):\n",
        "       self.wnl = WordNetLemmatizer()\n",
        "     def __call__(self, doc):\n",
        "       return [self.wnl.lemmatize(t,pos =get_wordnet_pos(t)) for t in word_tokenize(doc) if t.isalpha()]"
      ],
      "execution_count": null,
      "outputs": []
    },
    {
      "cell_type": "code",
      "metadata": {
        "id": "vVABeaYbMx5C"
      },
      "source": [
        "class BernouliNaiveBayes:\n",
        "  def __init__(self):\n",
        "    pass\n",
        "\n",
        "  def decode_class(self, a):\n",
        "    # Decode the predicted class labels to their original string values\n",
        "    for i in range(len(a)):\n",
        "      if a[i] == 0:\n",
        "        a[i] = \"Telegram\"\n",
        "      elif a[i] == 1:\n",
        "        a[i] = \"Facebook\"\n",
        "      elif a[i] == 2:\n",
        "        a[i] = \"Instagram\"\n",
        "      elif a[i] == 3: \n",
        "        a[i] = \"Linkedin\"\n",
        "      elif a[i] == 4:\n",
        "        a[i] = \"viber\"\n",
        "    return a\n",
        "\n",
        "  def cal_theta(self, X, df_y, a):\n",
        "    l = ['Telegram','Facebook','Instagram','Linkedin','viber']\n",
        "    theta_k = []\n",
        "    theta_j_k = []\n",
        "    for cat in l:\n",
        "      # Calculate the prior probability of each class\n",
        "      value0 = (df_y==cat).sum() / float(df_y.shape[0])\n",
        "      theta_k.append(value0)\n",
        "      jk_temp = []\n",
        "      for j in range(X.shape[1]):\n",
        "        # Calculate the likelihood of each feature given the class\n",
        "        value1 = (X[df_y==str(cat), j].sum() + a) / (float((df_y==cat).sum()) + a*2)\n",
        "        jk_temp.append(value1)\n",
        "      theta_j_k.append(jk_temp)\n",
        "    return theta_k, theta_j_k\n",
        "\n",
        "  def class_prob(X, theta_k, theta_jk):\n",
        "    num_features = X.shape[0]\n",
        "    class_probability = []\n",
        "    for k in range(len(theta_k)):\n",
        "      feature_likelihood = 0\n",
        "      # Calculate the likelihood of the sample given the class\n",
        "      feature_likelihood = np.dot(X, np.log(theta_jk[k])) + np.dot((1-X), np.log(1-theta_jk[k]))\n",
        "      # Vectorization\n",
        "      feature_likelihood = np.sum(feature_likelihood)\n",
        "      # Calculate the posterior probability of the class given the sample\n",
        "      class_prob = feature_likelihood + np.log(theta_k[k])\n",
        "      class_probability.append(class_prob)\n",
        "    return np.argmax(class_probability)\n",
        "\n",
        "  def accuracy_rate(self, actual, predictions):\n",
        "    correct = 0\n",
        "    for i in range(len(actual)):\n",
        "      if actual[i] == predictions[i]:\n",
        "        correct += 1\n",
        "    incorrect = len(actual) - correct\n",
        "    # Print the accuracy statistics\n",
        "    print(\"Total samples:\", len(actual))\n",
        "    print(\"Correct classifications:\", correct)\n",
        "    print(\"Missclassifications:\", incorrect)\n",
        "    return (correct / float(len(actual))) * 100.0\n",
        "\n",
        "  def predict(self, test_data, theta_k, theta_jk):\n",
        "    num_samples = len(test_data)\n",
        "    predictions = []\n",
        "    for i in range(num_samples):\n",
        "      # Predict the class of each sample\n",
        "      class_prediction = BernouliNaiveBayes.class_prob(test_data[i], theta_k, theta_jk)\n",
        "      predictions.append(class_prediction)\n",
        "    return prediction"
      ],
      "execution_count": null,
      "outputs": []
    },
    {
      "cell_type": "code",
      "metadata": {
        "id": "ajXXeBimEk2g"
      },
      "source": [
        "def clean (text):\n",
        "  return re.sub('[^a-zA-Z]', ' ', text)"
      ],
      "execution_count": null,
      "outputs": []
    },
    {
      "cell_type": "code",
      "metadata": {
        "colab": {
          "base_uri": "https://localhost:8080/",
          "height": 205
        },
        "id": "RXjUJ6HsOGGk",
        "outputId": "932cf1a1-4891-4280-d611-8c7d90fa52b6"
      },
      "source": [
        "#Reading data\n",
        "df_train = pd.read_csv('train.csv', encoding= 'unicode_escape')\n",
        "df_test= pd.read_csv('test.csv', encoding= 'cp437')\n",
        "df_train.head()"
      ],
      "execution_count": null,
      "outputs": [
        {
          "output_type": "execute_result",
          "data": {
            "text/html": [
              "<div>\n",
              "<style scoped>\n",
              "    .dataframe tbody tr th:only-of-type {\n",
              "        vertical-align: middle;\n",
              "    }\n",
              "\n",
              "    .dataframe tbody tr th {\n",
              "        vertical-align: top;\n",
              "    }\n",
              "\n",
              "    .dataframe thead th {\n",
              "        text-align: right;\n",
              "    }\n",
              "</style>\n",
              "<table border=\"1\" class=\"dataframe\">\n",
              "  <thead>\n",
              "    <tr style=\"text-align: right;\">\n",
              "      <th></th>\n",
              "      <th>body</th>\n",
              "      <th>subreddit</th>\n",
              "    </tr>\n",
              "  </thead>\n",
              "  <tbody>\n",
              "    <tr>\n",
              "      <th>0</th>\n",
              "      <td>So lads I was wondering why doesn't Telegram b...</td>\n",
              "      <td>Telegram</td>\n",
              "    </tr>\n",
              "    <tr>\n",
              "      <th>1</th>\n",
              "      <td>Same issue here, can?t access on my iphone xs ...</td>\n",
              "      <td>Telegram</td>\n",
              "    </tr>\n",
              "    <tr>\n",
              "      <th>2</th>\n",
              "      <td>I had the same issue, and it seems the only wa...</td>\n",
              "      <td>Telegram</td>\n",
              "    </tr>\n",
              "    <tr>\n",
              "      <th>3</th>\n",
              "      <td>Channels aren't the same thing as groups, whic...</td>\n",
              "      <td>Telegram</td>\n",
              "    </tr>\n",
              "    <tr>\n",
              "      <th>4</th>\n",
              "      <td>I noticed this too, I had a few bots that were...</td>\n",
              "      <td>Telegram</td>\n",
              "    </tr>\n",
              "  </tbody>\n",
              "</table>\n",
              "</div>"
            ],
            "text/plain": [
              "                                                body subreddit\n",
              "0  So lads I was wondering why doesn't Telegram b...  Telegram\n",
              "1  Same issue here, can?t access on my iphone xs ...  Telegram\n",
              "2  I had the same issue, and it seems the only wa...  Telegram\n",
              "3  Channels aren't the same thing as groups, whic...  Telegram\n",
              "4  I noticed this too, I had a few bots that were...  Telegram"
            ]
          },
          "metadata": {},
          "execution_count": 31
        }
      ]
    },
    {
      "cell_type": "code",
      "metadata": {
        "id": "U9Vc-dZku8tZ"
      },
      "source": [
        "def remove_urls(text):\n",
        "    url_pattern = re.compile(r'https?://\\S+|www\\.\\S+')\n",
        "    return url_pattern.sub(r'', text)\n",
        "df_train['body'] = df_train['body'].apply(lambda text: remove_urls(text))\n",
        "df_test['body'] = df_test['body'].apply(lambda text: remove_urls(text))"
      ],
      "execution_count": null,
      "outputs": []
    },
    {
      "cell_type": "code",
      "metadata": {
        "id": "GCu_mcQTvvvw"
      },
      "source": [
        "def remove_html(text):\n",
        "    html_pattern = re.compile('<.*?>')\n",
        "    return html_pattern.sub(r'', text)\n",
        "df_train['body'] = df_train['body'].apply(lambda text: remove_html(text))\n",
        "df_test['body'] = df_test['body'].apply(lambda text: remove_html(text))"
      ],
      "execution_count": null,
      "outputs": []
    },
    {
      "cell_type": "code",
      "metadata": {
        "id": "9xx3OVvdTlFY"
      },
      "source": [
        "\n",
        "df_train['body'] = df_train['body'].apply(clean)\n",
        "df_test['body'] = df_test['body'].apply(clean)"
      ],
      "execution_count": null,
      "outputs": []
    },
    {
      "cell_type": "code",
      "metadata": {
        "id": "jeJ7PMwKLpui",
        "colab": {
          "base_uri": "https://localhost:8080/"
        },
        "outputId": "64df3afd-90a3-4bc4-f5a0-52efc84151cc"
      },
      "source": [
        "from nltk.corpus import stopwords\n",
        "nltk.download('stopwords')\n",
        "', '.join(stopwords.words('english'))\n",
        "STOPWORDS = set(stopwords.words('english'))\n",
        "def remove_stopwords(text):\n",
        "    return \" \".join([word for word in str(text).split() if word not in STOPWORDS])\n",
        "\n",
        "df_train['body'] = df_train['body'].apply(lambda text: remove_stopwords(text))\n",
        "df_test['body'] = df_test['body'].apply(lambda text: remove_stopwords(text))"
      ],
      "execution_count": null,
      "outputs": [
        {
          "output_type": "stream",
          "name": "stdout",
          "text": [
            "[nltk_data] Downloading package stopwords to /root/nltk_data...\n",
            "[nltk_data]   Package stopwords is already up-to-date!\n"
          ]
        }
      ]
    },
    {
      "cell_type": "code",
      "metadata": {
        "colab": {
          "base_uri": "https://localhost:8080/"
        },
        "id": "b5L7Ssm3LXVN",
        "outputId": "afcc5794-9d1b-482c-abd0-809789f794d6"
      },
      "source": [
        "from collections import Counter\n",
        "cnt = Counter()\n",
        "for text in df_train['body'].values:\n",
        "    for word in text.split():\n",
        "        cnt[word] += 1\n",
        "cnt.most_common(10)"
      ],
      "execution_count": null,
      "outputs": [
        {
          "output_type": "execute_result",
          "data": {
            "text/plain": [
              "[('I', 4092),\n",
              " ('account', 555),\n",
              " ('get', 485),\n",
              " ('like', 443),\n",
              " ('Viber', 351),\n",
              " ('know', 350),\n",
              " ('people', 346),\n",
              " ('see', 342),\n",
              " (\"I'm\", 322),\n",
              " ('still', 311)]"
            ]
          },
          "metadata": {},
          "execution_count": 60
        }
      ]
    },
    {
      "cell_type": "code",
      "metadata": {
        "id": "-ygVg4qqRpAe"
      },
      "source": [
        "def remove_num(text):\n",
        "    remove= re.sub(r'\\d+', '', text)\n",
        "    return remove\n",
        "df_train['body'] = df_train['body'].apply(lambda text: remove_num(text))\n",
        "df_test['body'] = df_test['body'].apply(lambda text: remove_num(text))"
      ],
      "execution_count": null,
      "outputs": []
    },
    {
      "cell_type": "code",
      "metadata": {
        "id": "Uyb3mpZ7R9AZ"
      },
      "source": [
        "def remove_mention(x):\n",
        "    text=re.sub(r'@\\w+','',x)\n",
        "    return text\n",
        "df_train['body'] = df_train['body'].apply(lambda x: remove_mention(x))\n",
        "df_test['body'] = df_test['body'].apply(lambda x: remove_mention(x))"
      ],
      "execution_count": null,
      "outputs": []
    },
    {
      "cell_type": "code",
      "metadata": {
        "id": "JeCpNycfSd21"
      },
      "source": [
        "def remove_space(text):\n",
        "    space_remove = re.sub(r\"\\s+\",\" \",text).strip()\n",
        "    return space_remove\n",
        "df_train['body'] = df_train['body'].apply(lambda text: remove_space(text))\n",
        "df_test['body'] = df_test['body'].apply(lambda text: remove_space(text))"
      ],
      "execution_count": null,
      "outputs": []
    },
    {
      "cell_type": "code",
      "metadata": {
        "colab": {
          "base_uri": "https://localhost:8080/",
          "height": 224
        },
        "id": "Ql1n-fuKOJ8r",
        "outputId": "00450c0c-cb4d-454f-edfd-2fe9bd42b05f"
      },
      "source": [
        "X_train_init = df_train[\"body\"].values\n",
        "y_train_init = df_train[\"subreddit\"].values\n",
        "# X_shuffled,y_shuffled = shuffle(X, y, random_state=0)\n",
        "X_test_init = df_test['body']\n",
        "print(np.shape(X_train_init),np.shape(y_train_init),np.shape(X_test_init))\n",
        "df_train.head()\n",
        "df_test.head()"
      ],
      "execution_count": null,
      "outputs": [
        {
          "output_type": "stream",
          "name": "stdout",
          "text": [
            "(1749,) (1749,) (698,)\n"
          ]
        },
        {
          "output_type": "execute_result",
          "data": {
            "text/html": [
              "<div>\n",
              "<style scoped>\n",
              "    .dataframe tbody tr th:only-of-type {\n",
              "        vertical-align: middle;\n",
              "    }\n",
              "\n",
              "    .dataframe tbody tr th {\n",
              "        vertical-align: top;\n",
              "    }\n",
              "\n",
              "    .dataframe thead th {\n",
              "        text-align: right;\n",
              "    }\n",
              "</style>\n",
              "<table border=\"1\" class=\"dataframe\">\n",
              "  <thead>\n",
              "    <tr style=\"text-align: right;\">\n",
              "      <th></th>\n",
              "      <th>id</th>\n",
              "      <th>body</th>\n",
              "    </tr>\n",
              "  </thead>\n",
              "  <tbody>\n",
              "    <tr>\n",
              "      <th>0</th>\n",
              "      <td>1</td>\n",
              "      <td>firebase is included because of push iirc, but...</td>\n",
              "    </tr>\n",
              "    <tr>\n",
              "      <th>1</th>\n",
              "      <td>2</td>\n",
              "      <td>change the forwarded messages preference to no...</td>\n",
              "    </tr>\n",
              "    <tr>\n",
              "      <th>2</th>\n",
              "      <td>3</td>\n",
              "      <td>Say if a conversation is like A wrote this and...</td>\n",
              "    </tr>\n",
              "    <tr>\n",
              "      <th>3</th>\n",
              "      <td>4</td>\n",
              "      <td>Perhaps try using a different gallery app? I s...</td>\n",
              "    </tr>\n",
              "    <tr>\n",
              "      <th>4</th>\n",
              "      <td>5</td>\n",
              "      <td>Lol why do you need a bot? Is it a hard thing ...</td>\n",
              "    </tr>\n",
              "  </tbody>\n",
              "</table>\n",
              "</div>"
            ],
            "text/plain": [
              "   id                                               body\n",
              "0   1  firebase is included because of push iirc, but...\n",
              "1   2  change the forwarded messages preference to no...\n",
              "2   3  Say if a conversation is like A wrote this and...\n",
              "3   4  Perhaps try using a different gallery app? I s...\n",
              "4   5  Lol why do you need a bot? Is it a hard thing ..."
            ]
          },
          "metadata": {},
          "execution_count": 32
        }
      ]
    },
    {
      "cell_type": "code",
      "metadata": {
        "colab": {
          "base_uri": "https://localhost:8080/",
          "height": 295
        },
        "id": "B6K6IPTAyuzf",
        "outputId": "a1f0f9f5-3ea4-4a89-c013-5538cedeb795"
      },
      "source": [
        "unique, counts = np.unique(y_train_init, return_counts=True)\n",
        "plt.bar(unique, counts, color=(0.2, 0.4, 0.6, 0.6), width = 0.4)\n",
        "plt.title('Class Frequency')\n",
        "plt.xlabel('Class')\n",
        "plt.ylabel('Frequency')\n",
        "plt.show()"
      ],
      "execution_count": null,
      "outputs": [
        {
          "output_type": "display_data",
          "data": {
            "image/png": "[encoded data removed]",
            "text/plain": [
              "<Figure size 432x288 with 1 Axes>"
            ]
          },
          "metadata": {
            "needs_background": "light"
          }
        }
      ]
    },
    {
      "cell_type": "code",
      "metadata": {
        "colab": {
          "base_uri": "https://localhost:8080/"
        },
        "id": "U95jeSZ9Oc1C",
        "outputId": "4e1434e4-7ad9-4985-deba-5935bc6b8ae9"
      },
      "source": [
        "#raw data\n",
        "vectorizer = CountVectorizer(binary=True)\n",
        "normalizer = Normalizer()\n",
        "vectors_train = vectorizer.fit_transform(X_train_init)\n",
        "vectors_train = normalizer.transform(vectors_train)\n",
        "vectors_test = vectorizer.transform(X_test_init)\n",
        "vectors_test = normalizer.transform(vectors_test)\n",
        "print(np.shape(vectors_train))\n",
        "print(np.shape(vectors_test))"
      ],
      "execution_count": null,
      "outputs": [
        {
          "output_type": "stream",
          "name": "stdout",
          "text": [
            "(1749, 7889)\n",
            "(698, 7889)\n"
          ]
        }
      ]
    },
    {
      "cell_type": "code",
      "metadata": {
        "colab": {
          "base_uri": "https://localhost:8080/"
        },
        "id": "a8FJdRazS9Jl",
        "outputId": "367444db-6478-4dd3-90dd-e5e90c710875"
      },
      "source": [
        "from sklearn.feature_extraction import text\n",
        "my_stop_words = text.ENGLISH_STOP_WORDS\n",
        "vectorizer = CountVectorizer(stop_words = my_stop_words,binary=True)\n",
        "vectors_train_stop = vectorizer.fit_transform(X_train_init)\n",
        "vectors_train_stop = normalizer.transform(vectors_train_stop)\n",
        "vectors_test_stop = vectorizer.transform(X_test_init)\n",
        "vectors_test_stop = normalizer.transform(vectors_test_stop)\n",
        "print(np.shape(vectors_train_stop))\n",
        "# print(np.shape(vectors_train_stop))\n",
        "# kbest = SelectKBest(mutual_info_classif, k = 3000)\n",
        "# vectors_train_stop = kbest.fit_transform(vectors_train, y_shuffled)\n",
        "# vectors_test_stop = kbest.transform(vectors_test)\n",
        "print(np.shape(vectors_train_stop))"
      ],
      "execution_count": null,
      "outputs": [
        {
          "output_type": "stream",
          "name": "stdout",
          "text": [
            "(1749, 7610)\n",
            "(1749, 7610)\n"
          ]
        }
      ]
    },
    {
      "cell_type": "code",
      "metadata": {
        "colab": {
          "base_uri": "https://localhost:8080/"
        },
        "id": "POyNPb3uT14n",
        "outputId": "2687ef23-ca56-4d03-e59b-09c9323a91d0"
      },
      "source": [
        "vectorizer = CountVectorizer(tokenizer=StemTokenizer(),binary=True,stop_words = my_stop_words)\n",
        "vectors_train_stem = vectorizer.fit_transform(X_train_init)\n",
        "vectors_train_stem= normalizer.transform(vectors_train_stem)\n",
        "print(np.shape(vectors_train_stem))\n",
        "print(np.shape(vectors_train_stem))"
      ],
      "execution_count": null,
      "outputs": [
        {
          "output_type": "stream",
          "name": "stderr",
          "text": [
            "/usr/local/lib/python3.7/dist-packages/sklearn/feature_extraction/text.py:385: UserWarning: Your stop_words may be inconsistent with your preprocessing. Tokenizing the stop words generated tokens ['abov', 'afterward', 'alon', 'alreadi', 'alway', 'ani', 'anoth', 'anyon', 'anyth', 'anywher', 'becam', 'becaus', 'becom', 'befor', 'besid', 'cri', 'describ', 'dure', 'els', 'elsewher', 'empti', 'everi', 'everyon', 'everyth', 'everywher', 'fifti', 'formerli', 'forti', 'ha', 'henc', 'hereaft', 'herebi', 'hi', 'howev', 'hundr', 'inde', 'latterli', 'mani', 'meanwhil', 'moreov', 'mostli', 'nobodi', 'noon', 'noth', 'nowher', 'onc', 'onli', 'otherwis', 'ourselv', 'perhap', 'pleas', 'seriou', 'sever', 'sinc', 'sincer', 'sixti', 'someon', 'someth', 'sometim', 'somewher', 'themselv', 'thenc', 'thereaft', 'therebi', 'therefor', 'thi', 'thu', 'togeth', 'twelv', 'twenti', 'veri', 'wa', 'whatev', 'whenc', 'whenev', 'wherea', 'whereaft', 'wherebi', 'wherev', 'whi', 'yourselv'] not in stop_words.\n",
            "  'stop_words.' % sorted(inconsistent))\n"
          ]
        },
        {
          "output_type": "stream",
          "name": "stdout",
          "text": [
            "(1749, 4783)\n",
            "(1749, 4783)\n"
          ]
        }
      ]
    },
    {
      "cell_type": "code",
      "metadata": {
        "colab": {
          "base_uri": "https://localhost:8080/"
        },
        "id": "IIcOP4Z6UtLv",
        "outputId": "c6229dee-ecfc-4b90-e400-a850dd463691"
      },
      "source": [
        "vectorizer = CountVectorizer(tokenizer=New_LemmaTokenizer(),binary=True,stop_words = my_stop_words)\n",
        "vectors_train_Lemma = vectorizer.fit_transform(X_train_init)\n",
        "vectors_train_Lemma = normalizer.transform(vectors_train_Lemma)\n",
        "print(np.shape(vectors_train_Lemma))\n",
        "print(np.shape(vectors_train_Lemma))\n"
      ],
      "execution_count": null,
      "outputs": [
        {
          "output_type": "stream",
          "name": "stderr",
          "text": [
            "/usr/local/lib/python3.7/dist-packages/sklearn/feature_extraction/text.py:385: UserWarning: Your stop_words may be inconsistent with your preprocessing. Tokenizing the stop words generated tokens ['far', 'make', 'u'] not in stop_words.\n",
            "  'stop_words.' % sorted(inconsistent))\n"
          ]
        },
        {
          "output_type": "stream",
          "name": "stdout",
          "text": [
            "(1749, 5471)\n",
            "(1749, 5471)\n"
          ]
        }
      ]
    },
    {
      "cell_type": "code",
      "metadata": {
        "colab": {
          "base_uri": "https://localhost:8080/"
        },
        "id": "laWg6tJp3f4X",
        "outputId": "4dfa90c5-9742-4c4d-cbba-7083848feadc"
      },
      "source": [
        "vectorizer = CountVectorizer(tokenizer=StemTokenizer(),binary=True,stop_words=my_stop_words)\n",
        "vectors_train_stem_stop = vectorizer.fit_transform(X_train_init)\n",
        "vectors_train_stem_stop = normalizer.transform(vectors_train_stem_stop)\n",
        "print(np.shape(vectors_train_stem))"
      ],
      "execution_count": null,
      "outputs": [
        {
          "output_type": "stream",
          "name": "stderr",
          "text": [
            "/usr/local/lib/python3.7/dist-packages/sklearn/feature_extraction/text.py:385: UserWarning: Your stop_words may be inconsistent with your preprocessing. Tokenizing the stop words generated tokens ['abov', 'afterward', 'alon', 'alreadi', 'alway', 'ani', 'anoth', 'anyon', 'anyth', 'anywher', 'becam', 'becaus', 'becom', 'befor', 'besid', 'cri', 'describ', 'dure', 'els', 'elsewher', 'empti', 'everi', 'everyon', 'everyth', 'everywher', 'fifti', 'formerli', 'forti', 'ha', 'henc', 'hereaft', 'herebi', 'hi', 'howev', 'hundr', 'inde', 'latterli', 'mani', 'meanwhil', 'moreov', 'mostli', 'nobodi', 'noon', 'noth', 'nowher', 'onc', 'onli', 'otherwis', 'ourselv', 'perhap', 'pleas', 'seriou', 'sever', 'sinc', 'sincer', 'sixti', 'someon', 'someth', 'sometim', 'somewher', 'themselv', 'thenc', 'thereaft', 'therebi', 'therefor', 'thi', 'thu', 'togeth', 'twelv', 'twenti', 'veri', 'wa', 'whatev', 'whenc', 'whenev', 'wherea', 'whereaft', 'wherebi', 'wherev', 'whi', 'yourselv'] not in stop_words.\n",
            "  'stop_words.' % sorted(inconsistent))\n"
          ]
        },
        {
          "output_type": "stream",
          "name": "stdout",
          "text": [
            "(1749, 4783)\n"
          ]
        }
      ]
    },
    {
      "cell_type": "code",
      "metadata": {
        "colab": {
          "base_uri": "https://localhost:8080/"
        },
        "id": "Co2WEf5ZQ6fW",
        "outputId": "89fa5f5d-99b4-4a19-d9cb-857fa60cc49d"
      },
      "source": [
        "from sklearn.feature_extraction import text\n",
        "my_stop_words = text.ENGLISH_STOP_WORDS\n",
        "normalizer = Normalizer()\n",
        "tf_idf_vectorizer = TfidfVectorizer(stop_words = 'english',binary=True, tokenizer=New_LemmaTokenizer())\n",
        "vectors_train_idf = tf_idf_vectorizer.fit_transform(X_train_init)\n",
        "vectors_train_idf = normalizer.transform(vectors_train_idf)\n",
        "vectors_test_idf = tf_idf_vectorizer.transform(X_test_init)\n",
        "vectors_test_idf = normalizer.transform(vectors_test_idf)\n",
        "print(np.shape(vectors_train_idf))\n",
        "print(np.shape(vectors_test_idf))\n",
        "kbest = SelectKBest(mutual_info_classif, k = 3000)\n",
        "vectors_train_idf = kbest.fit_transform(vectors_train_idf, y_train_init)\n",
        "vectors_test_idf = kbest.transform(vectors_test_idf)"
      ],
      "execution_count": null,
      "outputs": [
        {
          "output_type": "stream",
          "name": "stderr",
          "text": [
            "/usr/local/lib/python3.7/dist-packages/sklearn/feature_extraction/text.py:385: UserWarning: Your stop_words may be inconsistent with your preprocessing. Tokenizing the stop words generated tokens ['far', 'make', 'u'] not in stop_words.\n",
            "  'stop_words.' % sorted(inconsistent))\n"
          ]
        },
        {
          "output_type": "stream",
          "name": "stdout",
          "text": [
            "(1749, 5471)\n",
            "(698, 5471)\n"
          ]
        }
      ]
    },
    {
      "cell_type": "code",
      "metadata": {
        "id": "dNrTKCD1sEZO"
      },
      "source": [
        "from sklearn.feature_extraction import text\n",
        "my_stop_words = text.ENGLISH_STOP_WORDS\n",
        "normalizer = Normalizer()\n",
        "tf_idf_vectorizer = TfidfVectorizer(stop_words = my_stop_words,binary=True,smooth_idf = False,ngram_range=(1,2),max_features=5000)\n",
        "vectors_train_idf_ngram = tf_idf_vectorizer.fit_transform(X_train_init)\n",
        "vectors_train_idf_ngram = normalizer.transform(vectors_train_idf_ngram)"
      ],
      "execution_count": null,
      "outputs": []
    },
    {
      "cell_type": "code",
      "metadata": {
        "id": "XSaXfvmcU-YV"
      },
      "source": [
        "features=[('without feature selection',vectors_train),\n",
        "          (\"idf\",vectors_train_idf),\n",
        "          ('stemming',vectors_train_stem),\n",
        "          ('lemma',vectors_train_Lemma),\n",
        "          ('ngram',vectors_train_idf_ngram)]"
      ],
      "execution_count": null,
      "outputs": []
    },
    {
      "cell_type": "code",
      "metadata": {
        "colab": {
          "base_uri": "https://localhost:8080/"
        },
        "id": "CCElfORW4d90",
        "outputId": "48312038-3d4c-4cd6-bf97-3ac97cc25b34"
      },
      "source": [
        "for f_name, f_instance in features:\n",
        "    clf=RandomForestClassifier()\n",
        "    scores = cross_val_score(clf, f_instance, y_train_init, cv=10)\n",
        "    print(\"The accuracy of model %s with %s feature selection is %f\" %(m_name,f_name, scores.mean()))"
      ],
      "execution_count": null,
      "outputs": [
        {
          "output_type": "stream",
          "name": "stdout",
          "text": [
            "The accuracy of model knn with bagging with without feature selection feature selection is 0.852496\n",
            "The accuracy of model knn with bagging with stop word feature selection is 0.874775\n",
            "The accuracy of model knn with bagging with idf feature selection is 0.875356\n",
            "The accuracy of model knn with bagging with stemming feature selection is 0.853642\n",
            "The accuracy of model knn with bagging with lemma feature selection is 0.851928\n",
            "The accuracy of model knn with bagging with Stem and Stop feature selection is 0.865077\n"
          ]
        }
      ]
    },
    {
      "cell_type": "code",
      "metadata": {
        "id": "I1xnNMYLnAKN"
      },
      "source": [
        "from sklearn.naive_bayes import MultinomialNB"
      ],
      "execution_count": null,
      "outputs": []
    },
    {
      "cell_type": "code",
      "metadata": {
        "id": "4OWvN-TqVRmC"
      },
      "source": [
        "models=[('naive bayes Bernouli', BernoulliNB()),\n",
        "        ('naive bayes Multinomial',MultinomialNB()),\n",
        "        ('knn', KNeighborsClassifier()),\n",
        "        ('decision tree', DecisionTreeClassifier()),\n",
        "        ('random forest',RandomForestClassifier()),\n",
        "        ('svm linear', SVC(kernel='linear'))]"
      ],
      "execution_count": null,
      "outputs": []
    },
    {
      "cell_type": "code",
      "metadata": {
        "colab": {
          "base_uri": "https://localhost:8080/"
        },
        "id": "g6Z7loaHVhP8",
        "outputId": "e777dc5a-1d3c-4967-80ad-999bc11473fe"
      },
      "source": [
        "for m_name,m_instance in models:\n",
        "  for f_name, f_instance in features:\n",
        "    clf=m_instance\n",
        "    scores = cross_val_score(clf, f_instance, y_train_init, cv=10)\n",
        "    print(\"The accuracy of model %s with %s feature selection is %f\" %(m_name,f_name, scores.mean()))"
      ],
      "execution_count": null,
      "outputs": [
        {
          "output_type": "stream",
          "name": "stdout",
          "text": [
            "The accuracy of model naive bayes Bernouli with without feature selection feature selection is 0.760440\n",
            "The accuracy of model naive bayes Bernouli with idf feature selection is 0.816466\n",
            "The accuracy of model naive bayes Bernouli with stemming feature selection is 0.791888\n",
            "The accuracy of model naive bayes Bernouli with lemma feature selection is 0.805048\n",
            "The accuracy of model naive bayes Bernouli with ngram feature selection is 0.755852\n",
            "The accuracy of model naive bayes Multinomial with without feature selection feature selection is 0.795898\n",
            "The accuracy of model naive bayes Multinomial with idf feature selection is 0.810755\n",
            "The accuracy of model naive bayes Multinomial with stemming feature selection is 0.824493\n",
            "The accuracy of model naive bayes Multinomial with lemma feature selection is 0.834775\n",
            "The accuracy of model naive bayes Multinomial with ngram feature selection is 0.811327\n",
            "The accuracy of model knn with without feature selection feature selection is 0.616929\n",
            "The accuracy of model knn with idf feature selection is 0.692404\n",
            "The accuracy of model knn with stemming feature selection is 0.712420\n",
            "The accuracy of model knn with lemma feature selection is 0.722148\n",
            "The accuracy of model knn with ngram feature selection is 0.676943\n",
            "The accuracy of model decision tree with without feature selection feature selection is 0.768420\n",
            "The accuracy of model decision tree with idf feature selection is 0.797586\n",
            "The accuracy of model decision tree with stemming feature selection is 0.786759\n",
            "The accuracy of model decision tree with lemma feature selection is 0.787327\n",
            "The accuracy of model decision tree with ngram feature selection is 0.802742\n",
            "The accuracy of model random forest with without feature selection feature selection is 0.842194\n",
            "The accuracy of model random forest with idf feature selection is 0.859928\n",
            "The accuracy of model random forest with stemming feature selection is 0.866795\n",
            "The accuracy of model random forest with lemma feature selection is 0.855360\n",
            "The accuracy of model random forest with ngram feature selection is 0.860502\n",
            "The accuracy of model svm linear with without feature selection feature selection is 0.851915\n",
            "The accuracy of model svm linear with idf feature selection is 0.871931\n",
            "The accuracy of model svm linear with stemming feature selection is 0.861649\n",
            "The accuracy of model svm linear with lemma feature selection is 0.863343\n",
            "The accuracy of model svm linear with ngram feature selection is 0.875353\n"
          ]
        }
      ]
    },
    {
      "cell_type": "code",
      "metadata": {
        "colab": {
          "base_uri": "https://localhost:8080/",
          "height": 356
        },
        "id": "vbh-1YJkiLwE",
        "outputId": "6a4c671b-dee0-4a59-99c1-c3d19c50a29c"
      },
      "source": [
        "import timeit\n",
        "BNV_classifier = BernouliNaiveBayes()\n",
        "start_time = timeit.default_timer()\n",
        "theta_k, theta_jk = BNV_classifier.cal_theta(X_train, y_train,a=1)\n",
        "end_time = timeit.default_timer()\n",
        "theta_jk = np.array(theta_jk)\n",
        "theta_k = np.array(theta_k)\n",
        "a = BNV_classifier.predict(X_train, theta_k, theta_jk)\n",
        "b = BNV_classifier.predict(X_test, theta_k, theta_jk)\n",
        "a = BNV_classifier.decode_class(a)\n",
        "b =BNV_classifier. decode_class(b)\n",
        "print('Training accuracy:', metrics.accuracy_score(y_train, a))\n",
        "print('Test accuracy:', metrics.accuracy_score(y_test, b))\n",
        "end_time = timeit.default_timer()\n",
        "exe_time = end_time - start_time\n",
        "print(\"Execution time\", exe_time)\n",
        "print(metrics.recall_score(y_test, b, average='weighted'))\n",
        "print(metrics.precision_score(y_test, b, average='weighted'))\n",
        "print(metrics.classification_report(y_test, b))"
      ],
      "execution_count": null,
      "outputs": [
        {
          "output_type": "error",
          "ename": "AttributeError",
          "evalue": "ignored",
          "traceback": [
            "\u001b[0;31m---------------------------------------------------------------------------\u001b[0m",
            "\u001b[0;31mAttributeError\u001b[0m                            Traceback (most recent call last)",
            "\u001b[0;32m<ipython-input-262-4b9174f7f616>\u001b[0m in \u001b[0;36m<module>\u001b[0;34m()\u001b[0m\n\u001b[1;32m      2\u001b[0m \u001b[0mBNV_classifier\u001b[0m \u001b[0;34m=\u001b[0m \u001b[0mBernouliNaiveBayes\u001b[0m\u001b[0;34m(\u001b[0m\u001b[0;34m)\u001b[0m\u001b[0;34m\u001b[0m\u001b[0;34m\u001b[0m\u001b[0m\n\u001b[1;32m      3\u001b[0m \u001b[0mstart_time\u001b[0m \u001b[0;34m=\u001b[0m \u001b[0mtimeit\u001b[0m\u001b[0;34m.\u001b[0m\u001b[0mdefault_timer\u001b[0m\u001b[0;34m(\u001b[0m\u001b[0;34m)\u001b[0m\u001b[0;34m\u001b[0m\u001b[0;34m\u001b[0m\u001b[0m\n\u001b[0;32m----> 4\u001b[0;31m \u001b[0ma\u001b[0m\u001b[0;34m=\u001b[0m\u001b[0mnp\u001b[0m\u001b[0;34m.\u001b[0m\u001b[0marrange\u001b[0m\u001b[0;34m(\u001b[0m\u001b[0;36m1\u001b[0m\u001b[0;34m,\u001b[0m\u001b[0;36m100\u001b[0m\u001b[0;34m,\u001b[0m\u001b[0;36m10\u001b[0m\u001b[0;34m)\u001b[0m\u001b[0;34m\u001b[0m\u001b[0;34m\u001b[0m\u001b[0m\n\u001b[0m\u001b[1;32m      5\u001b[0m \u001b[0mtheta_k\u001b[0m\u001b[0;34m,\u001b[0m \u001b[0mtheta_jk\u001b[0m \u001b[0;34m=\u001b[0m \u001b[0mBNV_classifier\u001b[0m\u001b[0;34m.\u001b[0m\u001b[0mcal_theta\u001b[0m\u001b[0;34m(\u001b[0m\u001b[0mX_train\u001b[0m\u001b[0;34m,\u001b[0m \u001b[0my_train\u001b[0m\u001b[0;34m,\u001b[0m\u001b[0ma\u001b[0m\u001b[0;34m=\u001b[0m\u001b[0;36m1\u001b[0m\u001b[0;34m)\u001b[0m\u001b[0;34m\u001b[0m\u001b[0;34m\u001b[0m\u001b[0m\n\u001b[1;32m      6\u001b[0m \u001b[0mend_time\u001b[0m \u001b[0;34m=\u001b[0m \u001b[0mtimeit\u001b[0m\u001b[0;34m.\u001b[0m\u001b[0mdefault_timer\u001b[0m\u001b[0;34m(\u001b[0m\u001b[0;34m)\u001b[0m\u001b[0;34m\u001b[0m\u001b[0;34m\u001b[0m\u001b[0m\n",
            "\u001b[0;32m/usr/local/lib/python3.7/dist-packages/numpy/__init__.py\u001b[0m in \u001b[0;36m__getattr__\u001b[0;34m(attr)\u001b[0m\n\u001b[1;32m    213\u001b[0m             \u001b[0;32melse\u001b[0m\u001b[0;34m:\u001b[0m\u001b[0;34m\u001b[0m\u001b[0;34m\u001b[0m\u001b[0m\n\u001b[1;32m    214\u001b[0m                 raise AttributeError(\"module {!r} has no attribute \"\n\u001b[0;32m--> 215\u001b[0;31m                                      \"{!r}\".format(__name__, attr))\n\u001b[0m\u001b[1;32m    216\u001b[0m \u001b[0;34m\u001b[0m\u001b[0m\n\u001b[1;32m    217\u001b[0m         \u001b[0;32mdef\u001b[0m \u001b[0m__dir__\u001b[0m\u001b[0;34m(\u001b[0m\u001b[0;34m)\u001b[0m\u001b[0;34m:\u001b[0m\u001b[0;34m\u001b[0m\u001b[0;34m\u001b[0m\u001b[0m\n",
            "\u001b[0;31mAttributeError\u001b[0m: module 'numpy' has no attribute 'arrange'"
          ]
        }
      ]
    },
    {
      "cell_type": "code",
      "metadata": {
        "colab": {
          "base_uri": "https://localhost:8080/"
        },
        "id": "50Y_KUNqrnJl",
        "outputId": "d07d0905-ae94-4d2f-aa4e-fdf1de36627e"
      },
      "source": [
        "X_train, X_test, y_train, y_test=train_test_split(vectors_train_idf,y_train_init,test_size=0.2, random_state=42)\n",
        "print(np.shape(X_train))\n",
        "print(np.shape(X_test))\n",
        "print(np.shape(y_train))\n",
        "X_train = X_train.toarray()\n",
        "X_train = np.array(X_train)\n",
        "X_test = X_test.toarray()\n",
        "X_test = np.array(X_test)"
      ],
      "execution_count": null,
      "outputs": [
        {
          "output_type": "stream",
          "name": "stdout",
          "text": [
            "(1399, 3000)\n",
            "(350, 3000)\n",
            "(1399,)\n"
          ]
        }
      ]
    },
    {
      "cell_type": "code",
      "metadata": {
        "colab": {
          "base_uri": "https://localhost:8080/",
          "height": 783
        },
        "id": "kjBjuRb13wnt",
        "outputId": "c575bae9-0fd3-4383-e640-92dcfb439d65"
      },
      "source": [
        "import seaborn as sns\n",
        "from sklearn.decomposition import PCA\n",
        "pca = PCA(n_components=3)\n",
        "proj = pca.fit_transform(X_train)\n",
        "df = pd.DataFrame(dict(feature_2=proj[:, 1], feature_1=proj[:, 2], label = y_train))\n",
        "sns.set_style(\"whitegrid\")\n",
        "sns.FacetGrid(df, hue=\"label\", size=10) \\\n",
        "   .map(plt.scatter, \"feature_1\", \"feature_2\") \\\n",
        "   .add_legend()\n",
        "plt.show()"
      ],
      "execution_count": null,
      "outputs": [
        {
          "output_type": "stream",
          "name": "stderr",
          "text": [
            "/usr/local/lib/python3.7/dist-packages/seaborn/axisgrid.py:337: UserWarning: The `size` parameter has been renamed to `height`; please update your code.\n",
            "  warnings.warn(msg, UserWarning)\n"
          ]
        },
        {
          "output_type": "display_data",
          "data": {
            "image/png": "[encoded data removed]",
            "text/plain": [
              "<Figure size 806.75x720 with 1 Axes>"
            ]
          },
          "metadata": {}
        }
      ]
    },
    {
      "cell_type": "code",
      "metadata": {
        "colab": {
          "base_uri": "https://localhost:8080/"
        },
        "id": "Gv95z5Ly2eay",
        "outputId": "26a9ca1f-e3a0-479b-fcab-0171217828c4"
      },
      "source": [
        "import timeit\n",
        "BNV_classifier = BernouliNaiveBayes()\n",
        "start_time = timeit.default_timer()\n",
        "theta_k, theta_jk = BNV_classifier.cal_theta(X_train, y_train,a=1)\n",
        "end_time = timeit.default_timer()\n",
        "theta_jk = np.array(theta_jk)\n",
        "theta_k = np.array(theta_k)\n",
        "a = BNV_classifier.predict(X_train, theta_k, theta_jk)\n",
        "b = BNV_classifier.predict(X_test, theta_k, theta_jk)\n",
        "a = BNV_classifier.decode_class(a)\n",
        "b = BNV_classifier. decode_class(b)\n",
        "print('Training accuracy:', metrics.accuracy_score(y_train, a))\n",
        "print('Test accuracy:', metrics.accuracy_score(y_test, b))\n",
        "end_time = timeit.default_timer()\n",
        "exe_time = end_time - start_time\n",
        "print(\"Execution time\", exe_time)\n",
        "print(metrics.recall_score(y_test, b, average='weighted'))\n",
        "print(metrics.precision_score(y_test, b, average='weighted'))\n",
        "print(metrics.classification_report(y_test, b))"
      ],
      "execution_count": null,
      "outputs": [
        {
          "output_type": "stream",
          "name": "stdout",
          "text": [
            "Training accuracy: 0.9485346676197284\n",
            "Test accuracy: 0.7828571428571428\n",
            "Execution time 2.5801233920001323\n",
            "0.7828571428571428\n",
            "0.7937903218653825\n",
            "              precision    recall  f1-score   support\n",
            "\n",
            "    Facebook       0.78      0.71      0.74        69\n",
            "   Instagram       0.70      0.81      0.75        73\n",
            "    Linkedin       0.94      0.81      0.87        77\n",
            "    Telegram       0.81      0.71      0.76        68\n",
            "       viber       0.72      0.89      0.79        63\n",
            "\n",
            "    accuracy                           0.78       350\n",
            "   macro avg       0.79      0.78      0.78       350\n",
            "weighted avg       0.79      0.78      0.78       350\n",
            "\n"
          ]
        }
      ]
    },
    {
      "cell_type": "code",
      "metadata": {
        "colab": {
          "base_uri": "https://localhost:8080/",
          "height": 279
        },
        "id": "pu3sFEJQe151",
        "outputId": "9073aad4-8dc1-4d44-ea15-2b421dab029f"
      },
      "source": [
        "data_of = {'y_Actual':    y_test,\n",
        "        'y_Predicted': b\n",
        "        }\n",
        "df_of = pd.DataFrame(data_of, columns=['y_Actual','y_Predicted'])\n",
        "confusion_matrix = pd.crosstab(df_of['y_Actual'], df_of['y_Predicted'], rownames=['Actual'], colnames=['Predicted'])\n",
        "sn.heatmap(confusion_matrix, annot=True)\n",
        "plt.show()"
      ],
      "execution_count": null,
      "outputs": [
        {
          "output_type": "display_data",
          "data": {
            "image/png": "[encoded data removed]",
            "text/plain": [
              "<Figure size 432x288 with 2 Axes>"
            ]
          },
          "metadata": {
            "needs_background": "light"
          }
        }
      ]
    },
    {
      "cell_type": "code",
      "metadata": {
        "colab": {
          "base_uri": "https://localhost:8080/"
        },
        "id": "B_hHEfFAedH5",
        "outputId": "9629ea6a-4a7c-42b7-f76b-fa26b1f18abf"
      },
      "source": [
        "import timeit\n",
        "BNV_classifier = BernouliNaiveBayes()\n",
        "start_time = timeit.default_timer()\n",
        "theta_k, theta_jk = BNV_classifier.cal_theta(vectors_train_stop, y,a=1)\n",
        "end_time = timeit.default_timer()\n",
        "theta_jk = np.array(theta_jk)\n",
        "theta_k = np.array(theta_k)\n",
        "a = BNV_classifier.predict(vectors_test_stop, theta_k, theta_jk)\n",
        "# b = BNV_classifier.predict(X_test, theta_k, theta_jk)\n",
        "a = BNV_classifier.decode_class(a)\n",
        "# b =BNV_classifier. decode_class(b)\n",
        "# print('Training accuracy:', metrics.accuracy_score(y_train, a))\n",
        "# print('Test accuracy:', metrics.accuracy_score(y_test, b))\n",
        "end_time = timeit.default_timer()\n",
        "exe_time = end_time - start_time\n",
        "print(\"Execution time\", exe_time)\n",
        "# print(metrics.recall_score(y_test, b, average='weighted'))\n",
        "# print(metrics.precision_score(y_test, b, average='weighted'))\n",
        "# print(metrics.classification_report(y_test, b))"
      ],
      "execution_count": null,
      "outputs": [
        {
          "output_type": "stream",
          "name": "stdout",
          "text": [
            "Execution time 9.328661683999599\n"
          ]
        }
      ]
    },
    {
      "cell_type": "code",
      "metadata": {
        "colab": {
          "base_uri": "https://localhost:8080/"
        },
        "id": "bvZ2aBuo9qAT",
        "outputId": "c7699f34-09ed-4edf-d2e7-e2fcad55c1bc"
      },
      "source": [
        "print(np.shape(vectors_train_idf),np.shape(vectors_test_idf))\n",
        "vectors_train_idf = vectors_train_idf.toarray()\n",
        "vectors_train_idf = np.array(vectors_train_idf)\n",
        "vectors_test_idf = vectors_test_idf.toarray()\n",
        "vectors_test_idf = np.array(vectors_test_idf)\n",
        "np.shape(vectors_train_idf)"
      ],
      "execution_count": null,
      "outputs": [
        {
          "output_type": "stream",
          "name": "stdout",
          "text": [
            "(1749, 3800) (698, 3800)\n"
          ]
        },
        {
          "output_type": "execute_result",
          "data": {
            "text/plain": [
              "(1749, 3800)"
            ]
          },
          "metadata": {},
          "execution_count": 30
        }
      ]
    },
    {
      "cell_type": "code",
      "metadata": {
        "id": "vUHYOgKd7Tdo"
      },
      "source": [
        "clf=RandomForestClassifier(n_estimators=150)\n",
        "clf.fit(vectors_train_idf,y_train_init)\n",
        "y_pred= clf.predict(vectors_test_idf)"
      ],
      "execution_count": null,
      "outputs": []
    },
    {
      "cell_type": "code",
      "metadata": {
        "colab": {
          "base_uri": "https://localhost:8080/"
        },
        "id": "FwcM9YiN94-Z",
        "outputId": "bd54334e-a8da-484f-ac9b-535cb87e6a0c"
      },
      "source": [
        "print(np.shape(y_pred))\n",
        "y_pred"
      ],
      "execution_count": null,
      "outputs": [
        {
          "output_type": "stream",
          "name": "stdout",
          "text": [
            "(698,)\n"
          ]
        },
        {
          "output_type": "execute_result",
          "data": {
            "text/plain": [
              "array(['Telegram', 'Linkedin', 'Telegram', 'Telegram', 'Telegram',\n",
              "       'viber', 'Linkedin', 'Telegram', 'Telegram', 'Telegram',\n",
              "       'Facebook', 'Telegram', 'Telegram', 'Telegram', 'Telegram',\n",
              "       'Telegram', 'Telegram', 'Telegram', 'Telegram', 'Telegram',\n",
              "       'Telegram', 'Telegram', 'Telegram', 'Telegram', 'Telegram',\n",
              "       'Telegram', 'Telegram', 'Telegram', 'Telegram', 'Telegram',\n",
              "       'Telegram', 'Instagram', 'Linkedin', 'Telegram', 'Telegram',\n",
              "       'Telegram', 'Telegram', 'Telegram', 'Telegram', 'Telegram',\n",
              "       'Telegram', 'Linkedin', 'Telegram', 'Telegram', 'Telegram',\n",
              "       'Telegram', 'Telegram', 'Telegram', 'Telegram', 'Telegram',\n",
              "       'Telegram', 'viber', 'Telegram', 'Telegram', 'Telegram',\n",
              "       'Telegram', 'Telegram', 'Telegram', 'Telegram', 'Telegram',\n",
              "       'Telegram', 'Telegram', 'Telegram', 'Telegram', 'Telegram',\n",
              "       'Telegram', 'Telegram', 'Telegram', 'Telegram', 'Telegram',\n",
              "       'Telegram', 'Telegram', 'Telegram', 'Telegram', 'Telegram',\n",
              "       'Telegram', 'Telegram', 'Telegram', 'Telegram', 'Telegram',\n",
              "       'Telegram', 'Telegram', 'Telegram', 'Telegram', 'Telegram',\n",
              "       'Telegram', 'Telegram', 'viber', 'Telegram', 'Telegram',\n",
              "       'Telegram', 'Facebook', 'Telegram', 'Telegram', 'Instagram',\n",
              "       'Telegram', 'Telegram', 'Telegram', 'Telegram', 'Telegram',\n",
              "       'Telegram', 'Facebook', 'Telegram', 'Telegram', 'Telegram',\n",
              "       'Telegram', 'Telegram', 'Telegram', 'Telegram', 'Telegram',\n",
              "       'Telegram', 'Telegram', 'Telegram', 'Telegram', 'Telegram',\n",
              "       'Telegram', 'Telegram', 'Telegram', 'Telegram', 'Telegram',\n",
              "       'viber', 'Telegram', 'Telegram', 'Telegram', 'Telegram',\n",
              "       'Telegram', 'Telegram', 'Telegram', 'Telegram', 'Telegram',\n",
              "       'Telegram', 'Telegram', 'Telegram', 'Telegram', 'Telegram',\n",
              "       'Telegram', 'Telegram', 'Telegram', 'Telegram', 'Telegram',\n",
              "       'Telegram', 'Telegram', 'Telegram', 'Telegram', 'Telegram',\n",
              "       'Telegram', 'Telegram', 'Telegram', 'Telegram', 'Linkedin',\n",
              "       'Linkedin', 'Linkedin', 'Linkedin', 'Linkedin', 'Linkedin',\n",
              "       'Linkedin', 'Linkedin', 'Linkedin', 'Linkedin', 'Linkedin',\n",
              "       'Linkedin', 'Facebook', 'Linkedin', 'Linkedin', 'Linkedin',\n",
              "       'Linkedin', 'Linkedin', 'Linkedin', 'Linkedin', 'Linkedin',\n",
              "       'Linkedin', 'Linkedin', 'Telegram', 'Linkedin', 'Linkedin',\n",
              "       'Linkedin', 'Telegram', 'Linkedin', 'Linkedin', 'Linkedin',\n",
              "       'Linkedin', 'Telegram', 'Linkedin', 'Telegram', 'Linkedin',\n",
              "       'Linkedin', 'Linkedin', 'Linkedin', 'Linkedin', 'Linkedin',\n",
              "       'Linkedin', 'Linkedin', 'Linkedin', 'Linkedin', 'Linkedin',\n",
              "       'Linkedin', 'Linkedin', 'Linkedin', 'Instagram', 'Linkedin',\n",
              "       'Linkedin', 'Linkedin', 'Linkedin', 'Linkedin', 'Linkedin',\n",
              "       'Linkedin', 'Linkedin', 'Facebook', 'Linkedin', 'Linkedin',\n",
              "       'Facebook', 'Linkedin', 'Linkedin', 'Linkedin', 'Linkedin',\n",
              "       'Linkedin', 'Linkedin', 'Linkedin', 'Telegram', 'Telegram',\n",
              "       'Linkedin', 'Telegram', 'Linkedin', 'Linkedin', 'Linkedin',\n",
              "       'Linkedin', 'Linkedin', 'Linkedin', 'Linkedin', 'Linkedin',\n",
              "       'Linkedin', 'Linkedin', 'Linkedin', 'Linkedin', 'Linkedin',\n",
              "       'Linkedin', 'Linkedin', 'Linkedin', 'Linkedin', 'Linkedin',\n",
              "       'Linkedin', 'Linkedin', 'Telegram', 'Linkedin', 'Linkedin',\n",
              "       'Linkedin', 'Linkedin', 'Linkedin', 'Linkedin', 'Linkedin',\n",
              "       'Linkedin', 'Linkedin', 'Linkedin', 'Linkedin', 'Linkedin',\n",
              "       'Linkedin', 'Linkedin', 'Linkedin', 'Linkedin', 'Linkedin',\n",
              "       'Linkedin', 'Linkedin', 'Instagram', 'Linkedin', 'Instagram',\n",
              "       'Linkedin', 'Linkedin', 'Linkedin', 'Linkedin', 'Linkedin',\n",
              "       'Linkedin', 'Linkedin', 'Linkedin', 'Linkedin', 'Linkedin',\n",
              "       'Linkedin', 'Linkedin', 'Linkedin', 'Linkedin', 'Linkedin',\n",
              "       'Linkedin', 'Linkedin', 'Linkedin', 'Linkedin', 'Linkedin',\n",
              "       'Linkedin', 'Linkedin', 'Linkedin', 'Linkedin', 'Linkedin',\n",
              "       'Linkedin', 'Linkedin', 'Linkedin', 'Linkedin', 'Linkedin',\n",
              "       'Linkedin', 'Linkedin', 'Facebook', 'Linkedin', 'Instagram',\n",
              "       'Instagram', 'Instagram', 'Instagram', 'Instagram', 'Instagram',\n",
              "       'Instagram', 'Instagram', 'Instagram', 'Instagram', 'Instagram',\n",
              "       'Instagram', 'Instagram', 'Instagram', 'Instagram', 'Instagram',\n",
              "       'Instagram', 'Instagram', 'Instagram', 'Instagram', 'Instagram',\n",
              "       'Instagram', 'Telegram', 'Instagram', 'Telegram', 'Telegram',\n",
              "       'Instagram', 'Instagram', 'Instagram', 'Instagram', 'Instagram',\n",
              "       'Instagram', 'Instagram', 'Instagram', 'Instagram', 'Instagram',\n",
              "       'Instagram', 'Instagram', 'Instagram', 'Instagram', 'Instagram',\n",
              "       'Instagram', 'Instagram', 'Instagram', 'Instagram', 'Instagram',\n",
              "       'Instagram', 'Instagram', 'Instagram', 'Instagram', 'Instagram',\n",
              "       'Instagram', 'Instagram', 'Instagram', 'Instagram', 'Linkedin',\n",
              "       'Instagram', 'Telegram', 'Instagram', 'Instagram', 'Instagram',\n",
              "       'Instagram', 'Instagram', 'Instagram', 'Instagram', 'Instagram',\n",
              "       'Instagram', 'Instagram', 'Telegram', 'Facebook', 'Instagram',\n",
              "       'Facebook', 'Instagram', 'Instagram', 'Instagram', 'Instagram',\n",
              "       'Instagram', 'Instagram', 'Instagram', 'Instagram', 'Instagram',\n",
              "       'Instagram', 'Instagram', 'Instagram', 'Instagram', 'Instagram',\n",
              "       'Instagram', 'Instagram', 'Instagram', 'Instagram', 'Instagram',\n",
              "       'Facebook', 'Instagram', 'Instagram', 'Instagram', 'Instagram',\n",
              "       'Instagram', 'Instagram', 'Facebook', 'Instagram', 'Instagram',\n",
              "       'Instagram', 'Instagram', 'Instagram', 'Instagram', 'Instagram',\n",
              "       'Instagram', 'Instagram', 'Instagram', 'Instagram', 'Instagram',\n",
              "       'Telegram', 'Instagram', 'Facebook', 'Instagram', 'Instagram',\n",
              "       'Facebook', 'Instagram', 'Instagram', 'Instagram', 'Instagram',\n",
              "       'Telegram', 'Linkedin', 'Instagram', 'Instagram', 'Facebook',\n",
              "       'Instagram', 'Instagram', 'Instagram', 'Instagram', 'Instagram',\n",
              "       'Instagram', 'Instagram', 'Instagram', 'Instagram', 'Instagram',\n",
              "       'Instagram', 'Instagram', 'Instagram', 'Instagram', 'Instagram',\n",
              "       'Instagram', 'Instagram', 'Instagram', 'Instagram', 'Instagram',\n",
              "       'Instagram', 'Instagram', 'Facebook', 'Instagram', 'viber',\n",
              "       'Telegram', 'viber', 'viber', 'viber', 'viber', 'viber', 'viber',\n",
              "       'viber', 'viber', 'viber', 'viber', 'viber', 'viber', 'viber',\n",
              "       'viber', 'viber', 'viber', 'viber', 'viber', 'Telegram',\n",
              "       'Telegram', 'viber', 'Telegram', 'viber', 'Telegram', 'viber',\n",
              "       'viber', 'viber', 'viber', 'viber', 'viber', 'viber', 'Telegram',\n",
              "       'viber', 'viber', 'viber', 'viber', 'viber', 'viber', 'viber',\n",
              "       'viber', 'Facebook', 'viber', 'viber', 'viber', 'viber', 'viber',\n",
              "       'viber', 'viber', 'Telegram', 'viber', 'viber', 'viber', 'viber',\n",
              "       'Telegram', 'viber', 'viber', 'Telegram', 'viber', 'Telegram',\n",
              "       'viber', 'viber', 'Telegram', 'viber', 'viber', 'viber', 'viber',\n",
              "       'viber', 'Telegram', 'Telegram', 'viber', 'viber', 'viber',\n",
              "       'Telegram', 'viber', 'viber', 'viber', 'Telegram', 'viber',\n",
              "       'viber', 'viber', 'viber', 'viber', 'Telegram', 'viber', 'viber',\n",
              "       'viber', 'viber', 'viber', 'viber', 'viber', 'viber', 'viber',\n",
              "       'viber', 'viber', 'viber', 'viber', 'viber', 'Telegram',\n",
              "       'Facebook', 'Telegram', 'Facebook', 'Facebook', 'Facebook',\n",
              "       'Facebook', 'Facebook', 'Facebook', 'Facebook', 'Facebook',\n",
              "       'Facebook', 'Facebook', 'Facebook', 'Instagram', 'Facebook',\n",
              "       'Facebook', 'Facebook', 'Instagram', 'Facebook', 'Facebook',\n",
              "       'Facebook', 'Facebook', 'Facebook', 'Telegram', 'Facebook',\n",
              "       'Facebook', 'Facebook', 'Facebook', 'Facebook', 'Facebook',\n",
              "       'Instagram', 'Facebook', 'Facebook', 'Facebook', 'Linkedin',\n",
              "       'Instagram', 'Facebook', 'Facebook', 'Facebook', 'Facebook',\n",
              "       'Facebook', 'Facebook', 'Instagram', 'Facebook', 'Facebook',\n",
              "       'Telegram', 'Facebook', 'Facebook', 'Facebook', 'Facebook',\n",
              "       'Facebook', 'Facebook', 'Facebook', 'Facebook', 'Telegram',\n",
              "       'Facebook', 'Facebook', 'Facebook', 'Facebook', 'Facebook',\n",
              "       'Instagram', 'Facebook', 'Facebook', 'Facebook', 'Facebook',\n",
              "       'Facebook', 'Facebook', 'Instagram', 'Facebook', 'Linkedin',\n",
              "       'Telegram', 'Facebook', 'Telegram', 'Facebook', 'Facebook',\n",
              "       'Facebook', 'Facebook', 'Facebook', 'Facebook', 'Facebook',\n",
              "       'Facebook', 'Facebook', 'Facebook', 'Linkedin', 'Facebook',\n",
              "       'Instagram', 'Facebook', 'Facebook', 'Facebook', 'Facebook',\n",
              "       'Facebook', 'Facebook', 'Facebook', 'Facebook', 'Facebook',\n",
              "       'Facebook', 'Telegram', 'Facebook', 'Facebook', 'Facebook',\n",
              "       'Facebook', 'Facebook', 'Facebook', 'Facebook', 'Facebook',\n",
              "       'Facebook', 'Facebook', 'Instagram', 'Facebook', 'Facebook',\n",
              "       'Instagram', 'Facebook', 'Facebook', 'Facebook', 'Facebook',\n",
              "       'Facebook', 'Facebook', 'Facebook', 'Facebook', 'Facebook',\n",
              "       'Facebook', 'Facebook', 'Facebook', 'Facebook', 'Instagram',\n",
              "       'Facebook', 'Facebook', 'Facebook', 'Facebook', 'Facebook',\n",
              "       'Facebook', 'Facebook', 'Facebook', 'Facebook', 'Facebook',\n",
              "       'Facebook', 'Facebook', 'Instagram', 'Facebook', 'Facebook',\n",
              "       'Facebook', 'Facebook', 'Facebook', 'Facebook', 'Facebook',\n",
              "       'Instagram', 'Facebook', 'Facebook', 'Facebook'], dtype=object)"
            ]
          },
          "metadata": {},
          "execution_count": 77
        }
      ]
    },
    {
      "cell_type": "code",
      "metadata": {
        "id": "Btis7KGifCGK"
      },
      "source": [
        "id=np.arange(start=1, stop=699)\n",
        "df = pd.DataFrame(list(zip(id, y_pred)),\n",
        "               columns =['id', 'subreddit'])\n",
        "df.to_csv('rf5.csv',index=False)"
      ],
      "execution_count": null,
      "outputs": []
    },
    {
      "cell_type": "code",
      "metadata": {
        "id": "ygBAQ0BMbhlD",
        "colab": {
          "base_uri": "https://localhost:8080/"
        },
        "outputId": "74347565-148f-4a0d-aeca-f3da67bca1fd"
      },
      "source": [
        "X_train, X_test, y_train, y_test=train_test_split(vectors_train_stop,y_train_init,test_size=0.2, random_state=42)\n",
        "clf=RandomForestClassifier()\n",
        "clf.fit(X_train,y_train)\n",
        "y_pred= clf.predict(X_test)\n",
        "print(metrics.classification_report(y_test, y_pred))"
      ],
      "execution_count": null,
      "outputs": [
        {
          "output_type": "stream",
          "name": "stdout",
          "text": [
            "              precision    recall  f1-score   support\n",
            "\n",
            "    Facebook       0.86      0.81      0.84        69\n",
            "   Instagram       0.80      0.78      0.79        73\n",
            "    Linkedin       0.95      0.92      0.93        77\n",
            "    Telegram       0.71      0.91      0.80        68\n",
            "       viber       0.98      0.81      0.89        63\n",
            "\n",
            "    accuracy                           0.85       350\n",
            "   macro avg       0.86      0.85      0.85       350\n",
            "weighted avg       0.86      0.85      0.85       350\n",
            "\n"
          ]
        }
      ]
    },
    {
      "cell_type": "code",
      "metadata": {
        "id": "F1DRAlZVrbCI",
        "colab": {
          "base_uri": "https://localhost:8080/",
          "height": 280
        },
        "outputId": "08f52e80-2c0c-441b-f0c3-0feba232acae"
      },
      "source": [
        "data_of = {'y_Actual':    y_test,\n",
        "        'y_Predicted': y_pred\n",
        "        }\n",
        "df_of = pd.DataFrame(data_of, columns=['y_Actual','y_Predicted'])\n",
        "confusion_matrix = pd.crosstab(df_of['y_Actual'], df_of['y_Predicted'], rownames=['Actual'], colnames=['Predicted'])\n",
        "sn.heatmap(confusion_matrix, annot=True)\n",
        "plt.show()"
      ],
      "execution_count": null,
      "outputs": [
        {
          "output_type": "display_data",
          "data": {
            "image/png": "[encoded data removed]",
            "text/plain": [
              "<Figure size 432x288 with 2 Axes>"
            ]
          },
          "metadata": {
            "needs_background": "light"
          }
        }
      ]
    }
  ]
}